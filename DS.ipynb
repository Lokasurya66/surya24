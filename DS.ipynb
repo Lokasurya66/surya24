{
  "nbformat": 4,
  "nbformat_minor": 0,
  "metadata": {
    "colab": {
      "name": "Welcome to Colaboratory",
      "provenance": [],
      "collapsed_sections": [],
      "include_colab_link": true
    },
    "kernelspec": {
      "display_name": "Python 3",
      "name": "python3"
    }
  },
  "cells": [
    {
      "cell_type": "markdown",
      "metadata": {
        "id": "view-in-github",
        "colab_type": "text"
      },
      "source": [
        "<a href=\"https://colab.research.google.com/github/Lokasurya66/surya24/blob/master/DS.ipynb\" target=\"_parent\"><img src=\"https://colab.research.google.com/assets/colab-badge.svg\" alt=\"Open In Colab\"/></a>"
      ]
    },
    {
      "cell_type": "markdown",
      "metadata": {
        "id": "6g9EqqYDC6Jn"
      },
      "source": [
        " 1.a Find minimum among three nunbers"
      ]
    },
    {
      "cell_type": "code",
      "metadata": {
        "colab": {
          "base_uri": "https://localhost:8080/"
        },
        "id": "TR_vf1pfC6qQ",
        "outputId": "c48c27a7-f0b9-4373-e0bf-509613ddb0b7"
      },
      "source": [
        " \n",
        "a=int(input(\"Enter the first number \"))\n",
        "b=int(input(\"Enter the second number \"))\n",
        "c=int(input(\"Enter the third number \"))\n",
        "if a<b:\n",
        "    if b<c:\n",
        "        print(a,\" is the minimum number\")\n",
        "    else:\n",
        "        print(c,\" is the minimum number\")\n",
        "else:\n",
        "    if b<c:\n",
        "        print(b,\" is the minimum number\")\n",
        "    else:\n",
        "        print(c,\" is the minimum number\")"
      ],
      "execution_count": null,
      "outputs": [
        {
          "output_type": "stream",
          "text": [
            "Enter the first number 6\n",
            "Enter the second number 9\n",
            "Enter the third number 3\n",
            "3  is the minimum number\n"
          ],
          "name": "stdout"
        }
      ]
    },
    {
      "cell_type": "markdown",
      "metadata": {
        "id": "HpheKkPZDpYt"
      },
      "source": [
        "1.b Find the GCD and LCM of two/three numbers"
      ]
    },
    {
      "cell_type": "code",
      "metadata": {
        "colab": {
          "base_uri": "https://localhost:8080/"
        },
        "id": "96CZClREEQ-w",
        "outputId": "34898808-3fb2-45b1-c519-d4112f08203d"
      },
      "source": [
        " \n",
        "a=int(input(\"Enter the first number \"))\n",
        "b=int(input(\"Enter the second number \"))\n",
        "i=1\n",
        "while (i <= a and i <= b):\n",
        "  if(a%i == 0 and b%i == 0):\n",
        "    gcd = i\n",
        "  i = i + 1\n",
        "lcm = (a*b)/gcd\n",
        "print(\"GCD of the given numbers is \", gcd)\n",
        "print(\"LCM of the given numbers is \",lcm)"
      ],
      "execution_count": null,
      "outputs": [
        {
          "output_type": "stream",
          "text": [
            "Enter the first number 20\n",
            "Enter the second number 30\n",
            "GCD of the given numbers is  10\n",
            "LCM of the given numbers is  60.0\n"
          ],
          "name": "stdout"
        }
      ]
    },
    {
      "cell_type": "markdown",
      "metadata": {
        "id": "ntY3IBXMEXn8"
      },
      "source": [
        " 1.c.check whether the given number is perfect"
      ]
    },
    {
      "cell_type": "code",
      "metadata": {
        "colab": {
          "base_uri": "https://localhost:8080/"
        },
        "id": "D1FvZykgEqNB",
        "outputId": "72fa7e80-6047-4fe6-d8f8-1a74f7c9e4a4"
      },
      "source": [
        " \n",
        "n=int(input(\"enter any number:\"))\n",
        "sum=0\n",
        "for i in range(1,n):\n",
        "    if(n%i==0):\n",
        "       sum=sum+i\n",
        "if(sum==n):\n",
        "    print(\"the number\",sum,\" is a perfect number\")\n",
        "else:\n",
        "    print(\"the number is not a perfect number\")"
      ],
      "execution_count": null,
      "outputs": [
        {
          "output_type": "stream",
          "text": [
            "enter any number:8\n",
            "the number is not a perfect number\n"
          ],
          "name": "stdout"
        }
      ]
    },
    {
      "cell_type": "markdown",
      "metadata": {
        "id": "fhw-ZoSfGqyY"
      },
      "source": [
        "1.c Print twin primes upto a specified limit"
      ]
    },
    {
      "cell_type": "code",
      "metadata": {
        "colab": {
          "base_uri": "https://localhost:8080/"
        },
        "id": "atdIL6R1Gr9u",
        "outputId": "54c55c20-c386-41c4-97d9-15a8b0f0ec2c"
      },
      "source": [
        " \n",
        "def prime(n):\n",
        "    for i in range(2, n):\n",
        "        if n % i == 0:\n",
        "            return False\n",
        "    return True\n",
        " \n",
        "def twin_prime(start, end):\n",
        "    for i in range(start, end):\n",
        "        j= i + 2\n",
        "        if (prime(i) and prime(j)):\n",
        "            print (\"{:d} and {:d}\".format(i, j))\n",
        " \n",
        "twin_prime(2, 250)"
      ],
      "execution_count": null,
      "outputs": [
        {
          "output_type": "stream",
          "text": [
            "3 and 5\n",
            "5 and 7\n",
            "11 and 13\n",
            "17 and 19\n",
            "29 and 31\n",
            "41 and 43\n",
            "59 and 61\n",
            "71 and 73\n",
            "101 and 103\n",
            "107 and 109\n",
            "137 and 139\n",
            "149 and 151\n",
            "179 and 181\n",
            "191 and 193\n",
            "197 and 199\n",
            "227 and 229\n",
            "239 and 241\n"
          ],
          "name": "stdout"
        }
      ]
    },
    {
      "cell_type": "markdown",
      "metadata": {
        "id": "iPMDVS3yIcga"
      },
      "source": [
        " 1.d print twin primes upto specified limit"
      ]
    },
    {
      "cell_type": "code",
      "metadata": {
        "colab": {
          "base_uri": "https://localhost:8080/"
        },
        "id": "0sKyl4K1Ikle",
        "outputId": "e98ae776-1603-47da-9bce-96b43daec64b"
      },
      "source": [
        " \n",
        "n1 = int(input(\"Enter the first number \"))\n",
        "n2 = int(input(\"Enter the last number \"))\n",
        " \n",
        "for n in range(n1, n2+1):  \n",
        "    if n > 1:\n",
        "        for i in range(2,n):\n",
        "            if (n % i == 0):\n",
        "                break  \n",
        "        else:  \n",
        "            print(n)"
      ],
      "execution_count": null,
      "outputs": [
        {
          "output_type": "stream",
          "text": [
            "Enter the first number 2\n",
            "Enter the last number 220\n",
            "2\n",
            "3\n",
            "5\n",
            "7\n",
            "11\n",
            "13\n",
            "17\n",
            "19\n",
            "23\n",
            "29\n",
            "31\n",
            "37\n",
            "41\n",
            "43\n",
            "47\n",
            "53\n",
            "59\n",
            "61\n",
            "67\n",
            "71\n",
            "73\n",
            "79\n",
            "83\n",
            "89\n",
            "97\n",
            "101\n",
            "103\n",
            "107\n",
            "109\n",
            "113\n",
            "127\n",
            "131\n",
            "137\n",
            "139\n",
            "149\n",
            "151\n",
            "157\n",
            "163\n",
            "167\n",
            "173\n",
            "179\n",
            "181\n",
            "191\n",
            "193\n",
            "197\n",
            "199\n",
            "211\n"
          ],
          "name": "stdout"
        }
      ]
    },
    {
      "cell_type": "markdown",
      "metadata": {
        "id": "FwXYt8cdItRi"
      },
      "source": [
        " 1.f find the sum of digits of a number.check whether given number is armstrong number or not"
      ]
    },
    {
      "cell_type": "code",
      "metadata": {
        "colab": {
          "base_uri": "https://localhost:8080/"
        },
        "id": "1P2QOoMhJRKT",
        "outputId": "070a0838-0db6-433a-f828-5c826e8a3450"
      },
      "source": [
        " \n",
        "import math \n",
        "n1 = int(input(\"Enter your first number \"))\n",
        "n2 = int(input(\"Enter your second number \"))\n",
        "print(\"The armstrong numbers form the interval are \")\n",
        "if n1 < n2:\n",
        "    for i in range(n1,n2+1):\n",
        "        sum = 0\n",
        "        temp = i\n",
        "        \n",
        "        while temp != 0:\n",
        "            last = temp%10\n",
        "            sum = sum + math.pow(last,3)\n",
        "            temp = temp//10\n",
        "        if sum==i:\n",
        "            print(i)"
      ],
      "execution_count": null,
      "outputs": [
        {
          "output_type": "stream",
          "text": [
            "Enter your first number 2\n",
            "Enter your second number 60\n",
            "The armstrong numbers form the interval are \n"
          ],
          "name": "stdout"
        }
      ]
    },
    {
      "cell_type": "markdown",
      "metadata": {
        "id": "RLxWEBh1KtdO"
      },
      "source": [
        " 1.g swap of two numbers"
      ]
    },
    {
      "cell_type": "code",
      "metadata": {
        "colab": {
          "base_uri": "https://localhost:8080/"
        },
        "id": "GNOo_pS0KxKI",
        "outputId": "35ad9973-7b86-4687-ca49-0e36473f2473"
      },
      "source": [
        " \n",
        "a=int(input(\"enter number:\"))\n",
        "b=int(input(\"enter number:\"))\n",
        "print(\"before swap the values of a and b are:\",a,b)\n",
        "a,b=b,a\n",
        "print(\"after swap the values of a and b are:\",a,b)"
      ],
      "execution_count": null,
      "outputs": [
        {
          "output_type": "stream",
          "text": [
            "enter number:5\n",
            "enter number:10\n",
            "before swap the values of a and b are: 5 10\n",
            "after swap the values of a and b are: 10 5\n"
          ],
          "name": "stdout"
        }
      ]
    },
    {
      "cell_type": "markdown",
      "metadata": {
        "id": "iQlb3uTHK4-2"
      },
      "source": [
        "1.h Perform all the five arithmetic operations"
      ]
    },
    {
      "cell_type": "code",
      "metadata": {
        "colab": {
          "base_uri": "https://localhost:8080/"
        },
        "id": "pf9eNFoTMEAy",
        "outputId": "e5904346-c9a5-456e-b77c-2da2f559353b"
      },
      "source": [
        " \n",
        "a= 10\n",
        "b = 30\n",
        "c = 10\n",
        " \n",
        "c = a + b\n",
        "print (\"Addition - Value of c is \", c)\n",
        " \n",
        "c = a - b\n",
        "print (\"Subtraction - Value of c is \", c)\n",
        " \n",
        "c = a * b\n",
        "print (\"Multiplication - Value of c is \", c)\n",
        " \n",
        "c = a / b\n",
        "print (\"Division - Value of c is \", c)\n",
        " \n",
        "c = a % b\n",
        "print (\"Modulus - Value of c is \", c)"
      ],
      "execution_count": null,
      "outputs": [
        {
          "output_type": "stream",
          "text": [
            "Addition - Value of c is  40\n",
            "Subtraction - Value of c is  -20\n",
            "Multiplication - Value of c is  300\n",
            "Division - Value of c is  0.3333333333333333\n",
            "Modulus - Value of c is  10\n"
          ],
          "name": "stdout"
        }
      ]
    },
    {
      "cell_type": "markdown",
      "metadata": {
        "id": "I9d_zsbVMSoO"
      },
      "source": [
        " 2.a.copy the contents from one array to another array"
      ]
    },
    {
      "cell_type": "code",
      "metadata": {
        "colab": {
          "base_uri": "https://localhost:8080/"
        },
        "id": "nONBznY9Mmmm",
        "outputId": "4e9ff84d-f45a-4138-a6f7-e6494b72a49f"
      },
      "source": [
        " \n",
        "import numpy as np\n",
        "x = np.array([24, 27, 30, 29, 18, 14])\n",
        "print(\"Original array:\")\n",
        "print(x)\n",
        "y = np.empty_like (x)\n",
        "y[:] = x\n",
        "print(\"\\nCopy of the said array:\")\n",
        "print(y)"
      ],
      "execution_count": null,
      "outputs": [
        {
          "output_type": "stream",
          "text": [
            "Original array:\n",
            "[24 27 30 29 18 14]\n",
            "\n",
            "Copy of the said array:\n",
            "[24 27 30 29 18 14]\n"
          ],
          "name": "stdout"
        }
      ]
    },
    {
      "cell_type": "markdown",
      "metadata": {
        "id": "rRt76FucMymM"
      },
      "source": [
        " 2.b Copy the contents from one array to another in reverse order"
      ]
    },
    {
      "cell_type": "code",
      "metadata": {
        "colab": {
          "base_uri": "https://localhost:8080/"
        },
        "id": "qODSnRgiNVC1",
        "outputId": "a6f35cf8-b364-4fb7-a4f5-caba3defbdd0"
      },
      "source": [
        " \n",
        "import array as arr\n",
        "source = arr.array('i', [10, 20, 30, 40])\n",
        "dest = arr.array('i', [])\n",
        " \n",
        "for index in range(0, len(source)):\n",
        "    dest.insert(index, source[index])\n",
        "    \n",
        "for i in dest:\n",
        "    print(i, end=\" \")\n",
        "print(type(dest))\n",
        "print(\"The reverse of the array: \")\n",
        "for i in range(len(source)-1, -1, -1):\n",
        "    dest.insert(index, source[index])\n",
        "    print(dest[i], end=\" \")"
      ],
      "execution_count": null,
      "outputs": [
        {
          "output_type": "stream",
          "text": [
            "10 20 30 40 <class 'array.array'>\n",
            "The reverse of the array: \n",
            "40 30 20 10 "
          ],
          "name": "stdout"
        }
      ]
    },
    {
      "cell_type": "markdown",
      "metadata": {
        "id": "CYmhY_cfNvv4"
      },
      "source": [
        " 2.c.delete the duplicate elements from an array"
      ]
    },
    {
      "cell_type": "code",
      "metadata": {
        "colab": {
          "base_uri": "https://localhost:8080/"
        },
        "id": "rDIPyGTuOiyJ",
        "outputId": "33d8fbc2-a94e-4b00-f3a3-a52d3a7dd40f"
      },
      "source": [
        " \n",
        "import array as arr\n",
        "def delete_duplicate(array1):\n",
        "    array2 = arr.array(\"i\", [])\n",
        "    for num in array1: \n",
        "        if num not in array2: \n",
        "            array2.append(num) \n",
        "    print(\"\\nArray after deleting the duplicate elements is:\")\n",
        "    for i in array2:\n",
        "        print(i, end = \", \")\n",
        " \n",
        "delete_duplicate(arr.array('i', [1,2,4,5,2,3,7,3,8,2,9]))"
      ],
      "execution_count": null,
      "outputs": [
        {
          "output_type": "stream",
          "text": [
            "\n",
            "Array after deleting the duplicate elements is:\n",
            "1, 2, 4, 5, 3, 7, 8, 9, "
          ],
          "name": "stdout"
        }
      ]
    },
    {
      "cell_type": "markdown",
      "metadata": {
        "id": "QwgLUP96OmLi"
      },
      "source": [
        " 3.a Representing sparse matrix"
      ]
    },
    {
      "cell_type": "code",
      "metadata": {
        "colab": {
          "base_uri": "https://localhost:8080/"
        },
        "id": "IQ3wDz-iO7m4",
        "outputId": "49d5583d-16dd-471f-8313-9703a8efb13e"
      },
      "source": [
        " \n",
        "import numpy as np \n",
        "from scipy.sparse import csr_matrix \n",
        "  \n",
        "# Creating a 3 * 4 sparse matrix \n",
        "sparseMatrix = csr_matrix((3, 4),  \n",
        "                          dtype = np.int8).toarray() \n",
        "  \n",
        "# Print the sparse matrix \n",
        "print(sparseMatrix)"
      ],
      "execution_count": null,
      "outputs": [
        {
          "output_type": "stream",
          "text": [
            "[[0 0 0 0]\n",
            " [0 0 0 0]\n",
            " [0 0 0 0]]\n"
          ],
          "name": "stdout"
        }
      ]
    },
    {
      "cell_type": "markdown",
      "metadata": {
        "id": "XgQJyk3ZO_Z4"
      },
      "source": [
        " 3.b.sparse matrix addition"
      ]
    },
    {
      "cell_type": "code",
      "metadata": {
        "colab": {
          "base_uri": "https://localhost:8080/"
        },
        "id": "q8e5I8lVPPBv",
        "outputId": "94ce4c7e-f804-46a3-b49d-55c7d6caeabf"
      },
      "source": [
        " \n",
        "m1=[[1,0,3],\n",
        "     [0,5,6],\n",
        "     [7,0,0]]\n",
        "m2=[[0,5,1],\n",
        "    [0,0,8],\n",
        "    [0,2,6]]     \n",
        "result=[[0,0,0],\n",
        "    [0,0,0],\n",
        "    [0,0,0]] \n",
        "for i in range(len(m1)):\n",
        "  for j in range(len(m2)):\n",
        "    for k in range(len(m2)):\n",
        "      result[i][j] = m1[i][j]+m2[i][j]\n",
        "print(\"The resultant matrix \")\n",
        "for r in result:\n",
        "  print(r)"
      ],
      "execution_count": null,
      "outputs": [
        {
          "output_type": "stream",
          "text": [
            "The resultant matrix \n",
            "[1, 5, 4]\n",
            "[0, 5, 14]\n",
            "[7, 2, 6]\n"
          ],
          "name": "stdout"
        }
      ]
    },
    {
      "cell_type": "markdown",
      "metadata": {
        "id": "8H6nc3BePXaX"
      },
      "source": [
        " 3.c sprase matrix transpose"
      ]
    },
    {
      "cell_type": "code",
      "metadata": {
        "colab": {
          "base_uri": "https://localhost:8080/"
        },
        "id": "rfMU7s-wPhKw",
        "outputId": "a2a88746-6e61-47b4-ecbf-cad968c68b5b"
      },
      "source": [
        " \n",
        "N=4\n",
        "def transpose(A,B): \n",
        "  \n",
        "    for i in range(N): \n",
        "        for j in range(N): \n",
        "            B[i][j] = A[j][i] \n",
        " \n",
        "A = [ [1, 1, 1, 1], \n",
        "    [2, 2, 2, 2], \n",
        "    [3, 3, 3, 3], \n",
        "    [4, 4, 4, 4]] \n",
        "   \n",
        "   \n",
        "B = A[:][:] \n",
        "  \n",
        "transpose(A, B) \n",
        "   \n",
        "print(\"Result matrix is\") \n",
        "for i in range(N): \n",
        "    for j in range(N): \n",
        "        print(B[i][j], \" \", end='') \n",
        "    print()"
      ],
      "execution_count": null,
      "outputs": [
        {
          "output_type": "stream",
          "text": [
            "Result matrix is\n",
            "1  2  3  4  \n",
            "2  2  3  4  \n",
            "3  3  3  4  \n",
            "4  4  4  4  \n"
          ],
          "name": "stdout"
        }
      ]
    },
    {
      "cell_type": "markdown",
      "metadata": {
        "id": "dneNY27rPsOR"
      },
      "source": [
        " 4.Write a program to perform Linear Search and Binary Search on a list stored in an array"
      ]
    },
    {
      "cell_type": "code",
      "metadata": {
        "colab": {
          "base_uri": "https://localhost:8080/"
        },
        "id": "hfpJ8uJHZhO0",
        "outputId": "8e006b79-c3cc-49c5-8adc-9cc226169c7a"
      },
      "source": [
        " \n",
        "def linear(alist,key):\n",
        "  for i in range(len(alist)):\n",
        "    if alist[i]==key :\n",
        "      return i \n",
        "  return -1\n",
        " \n",
        " \n",
        "alist = input('Enter the list of numbers :')\n",
        "alist = alist.split()\n",
        "alist =[int(x) for x in alist]\n",
        "key = int(input('The number to search for :'))\n",
        " \n",
        "index = linear(alist,key)\n",
        "if index<0 :\n",
        "   print('{} was not found '.format(key))\n",
        "else:\n",
        "  print('{} was found at index {}.'.format(key,index))"
      ],
      "execution_count": null,
      "outputs": [
        {
          "output_type": "stream",
          "text": [
            "Enter the list of numbers :5\n",
            "The number to search for :5\n",
            "5 was found at index 0.\n"
          ],
          "name": "stdout"
        }
      ]
    },
    {
      "cell_type": "markdown",
      "metadata": {
        "id": "X-IIrSbsZ0gZ"
      },
      "source": [
        " 5.a insert a node at beginning at ending and at a given position"
      ]
    },
    {
      "cell_type": "code",
      "metadata": {
        "id": "MmPsKoZuZ6ST"
      },
      "source": [
        " \n",
        "class node:\n",
        "    def _init_(self,dval,nval):\n",
        "        self.dval=dval\n",
        "        self.nval=nval\n",
        "class slist:\n",
        "    def _init_(self):\n",
        "        self.head=None\n",
        "        self.tail=None\n",
        "        self.size=0\n",
        "    def len(self):\n",
        "        return self.size\n",
        "    def isempty(self):\n",
        "        return self.size==0\n",
        "    def addlast(self,e):\n",
        "        new=node(e,None)\n",
        "        if self.isempty():\n",
        "            self.head=new\n",
        "        else:\n",
        "            self.tail.nval=new\n",
        "        self.tail=new\n",
        "        self.size+=1\n",
        "    def display(self):\n",
        "        p=self.head\n",
        "        while p:\n",
        "            print(p.dval,end='--')\n",
        "            p=p.nval\n",
        "        print(' ')\n",
        "    def removefirst(self):\n",
        "        if self.isempty():\n",
        "            print('empty list')\n",
        "            return\n",
        "        print('element deleted form the list is',self.head.dval)\n",
        "        self.head=self.head.nval\n",
        "        self.size-=1\n",
        "        if self.isempty():\n",
        "            self.tail=None\n",
        "            return\n",
        "    def removelast(self):\n",
        "        if self.isempty():\n",
        "            print('empty list')\n",
        "            return\n",
        "        temp=self.head\n",
        "        i=1\n",
        "        while i<self.len()-1:\n",
        "            temp=temp.nval\n",
        "            i+=1\n",
        "        self.tail=temp\n",
        "        temp=temp.nval\n",
        "        x=temp.nval\n",
        "        self.tail.nval=None\n",
        "        self.size-=1\n",
        "        return x\n",
        "    def count(self):\n",
        "        i=0\n",
        "        p=self.head\n",
        "        while p:\n",
        "            p=p.nval\n",
        "            i+=1\n",
        "            return i\n",
        "    def search(self,el):\n",
        "        p=self.head\n",
        "        i=0\n",
        "        while (i<(self.len())):\n",
        "            print(p.dval)\n",
        "            if p.dval==el:\n",
        "                print('element is found')\n",
        "                return\n",
        "            p=p.nval\n",
        "            i+=1\n",
        "        print('element is not found')"
      ],
      "execution_count": null,
      "outputs": []
    },
    {
      "cell_type": "markdown",
      "metadata": {
        "id": "CijSLQvIagFz"
      },
      "source": [
        " 6.doble linked list"
      ]
    },
    {
      "cell_type": "code",
      "metadata": {
        "id": "fTi_-V0aa7t0"
      },
      "source": [
        " \n",
        "class Node:\n",
        "    def init(self,preval,dataval,nextval):\n",
        "        self.dataval=dataval\n",
        "        self.nextval=nextval\n",
        "        self.preval=preval\n",
        "class dlist:\n",
        "    def init(self):\n",
        "        self.head=None\n",
        "        self.tail=None\n",
        "        self.size=0\n",
        "    def len(self):\n",
        "        return self.size\n",
        "    def isempty(self):\n",
        "        return self.size==0\n",
        "    def addlast(self,ele):\n",
        "        new=Node(None,ele,None)\n",
        "        if self.isempty():\n",
        "            self.head=new\n",
        "            self.tail=new\n",
        "        else:\n",
        "            self.tail.nextval=new\n",
        "            new.preval=self.tail\n",
        "            self.tail=new\n",
        "        self.size+=1\n",
        "    def display(self):\n",
        "        temp=self.head\n",
        "        while (temp):\n",
        "            print(temp.dataval,end='--')\n",
        "            temp=temp.nextval\n",
        "    def removelast(self):\n",
        "        if self.isempty():\n",
        "            print('empty list')\n",
        "            return\n",
        "        print('deleted element is :',self.tail.dataval)\n",
        "        self.tail.preval.nextval=None\n",
        "        self.tail=self.tail.preval\n",
        "        self.size-=1\n",
        "    def removefirst(self):\n",
        "        if self.isempty():\n",
        "            print('empty list')\n",
        "            return\n",
        "        else:\n",
        "            print('deleted element is :',self.head.dataval)\n",
        "            self.head.nextval=self.head\n",
        "            self.head.preval=None\n",
        "            self.size-=1\n",
        "            return\n",
        "    def search(self,ele):\n",
        "        temp=self.head\n",
        "        i=0\n",
        "        while(temp):\n",
        "            print('yes')\n",
        "            if temp.dataval==ele:\n",
        "                print('element found')\n",
        "                return\n",
        "            i+=1\n",
        "            temp=temp.nextval"
      ],
      "execution_count": null,
      "outputs": []
    },
    {
      "cell_type": "markdown",
      "metadata": {
        "id": "iA_RB2qHbTeI"
      },
      "source": [
        "7.circular linked list"
      ]
    },
    {
      "cell_type": "code",
      "metadata": {
        "id": "9lRKyEvTbVbF"
      },
      "source": [
        " \n",
        "class Node:\n",
        "    def init(self,preval,dataval,nextval):\n",
        "        self.dataval=dataval\n",
        "        self.nextval=nextval\n",
        "        self.preval=preval\n",
        "class dlist:\n",
        "    def init(self):\n",
        "        self.head=None\n",
        "        self.tail=None\n",
        "        self.size=0\n",
        "    def len(self):\n",
        "        return self.size\n",
        "    def isempty(self):\n",
        "        return self.size==0\n",
        "    def addlast(self,ele):\n",
        "        new=Node(None,ele,None)\n",
        "        if self.isempty():\n",
        "            self.head=new\n",
        "            self.tail=new\n",
        "        else:\n",
        "            self.tail.nextval=new\n",
        "            new.preval=self.tail\n",
        "            self.tail=new\n",
        "        self.size+=1\n",
        "    def display(self):\n",
        "        temp=self.head\n",
        "        while (temp):\n",
        "            print(temp.dataval,end='--')\n",
        "            temp=temp.nextval\n",
        "    def removelast(self):\n",
        "        if self.isempty():\n",
        "            print('empty list')\n",
        "            return\n",
        "        print('deleted element is :',self.tail.dataval)\n",
        "        self.tail.preval.nextval=None\n",
        "        self.tail=self.tail.preval\n",
        "        self.size-=1\n",
        "    def removefirst(self):\n",
        "        if self.isempty():\n",
        "            print('empty list')\n",
        "            return\n",
        "        else:\n",
        "            print('deleted element is :',self.head.dataval)\n",
        "            self.head.nextval=self.head\n",
        "            self.head.preval=None\n",
        "            self.size-=1\n",
        "            return\n",
        "    def search(self,ele):\n",
        "        temp=self.head\n",
        "        i=0\n",
        "        while(temp):\n",
        "            print('yes')\n",
        "            if temp.dataval==ele:\n",
        "                print('element found')\n",
        "                return\n",
        "            i+=1\n",
        "            temp=temp.nextval"
      ],
      "execution_count": null,
      "outputs": []
    },
    {
      "cell_type": "markdown",
      "metadata": {
        "id": "gkqOOMh3baiz"
      },
      "source": [
        " 8.write a program to create a stack and perform various operation on it"
      ]
    },
    {
      "cell_type": "code",
      "metadata": {
        "colab": {
          "base_uri": "https://localhost:8080/"
        },
        "id": "jrS519C7byoO",
        "outputId": "b3585d9e-0e84-41df-883a-a2f52f66096a"
      },
      "source": [
        " \n",
        "class Stack:\n",
        "    def _init_(self):\n",
        "        self.items = []\n",
        " \n",
        "    def is_empty(self):\n",
        "        return self.items == []\n",
        " \n",
        "    def push(self, data):\n",
        "        self.items.append(data)\n",
        " \n",
        "    def pop(self):\n",
        "        return self.items.pop()\n",
        " \n",
        " \n",
        "s = Stack()\n",
        "while True:\n",
        "    print('push <value>')\n",
        "    print('pop')\n",
        "    print('quit')\n",
        "    do = input('perform operation').split()\n",
        " \n",
        "    operation = do[0].strip().lower()\n",
        "    if operation == 'push':\n",
        "        s.push(int(do[1]))\n",
        "    elif operation == 'pop':\n",
        "        if s.is_empty():\n",
        "            print('Stack is empty.')\n",
        "        else:\n",
        "            print('Popped value: ', s.pop())\n",
        "    elif operation == 'quit':\n",
        "        break"
      ],
      "execution_count": null,
      "outputs": [
        {
          "output_type": "stream",
          "text": [
            "push <value>\n",
            "pop\n",
            "quit\n"
          ],
          "name": "stdout"
        }
      ]
    },
    {
      "cell_type": "markdown",
      "metadata": {
        "id": "EcHofCgEcG6N"
      },
      "source": [
        " 9.convert the influx expression into postfix form"
      ]
    },
    {
      "cell_type": "code",
      "metadata": {
        "id": "okEas-_EcJmg"
      },
      "source": [
        " \n",
        "class infix_to_postfix:\n",
        "    precedence={'^':5,'*':4,'/':4,'+':3,'-':3,'(':2,')':1}\n",
        "    def _init_(self):\n",
        "        self.items=[]\n",
        "        self.size=-1\n",
        "    def push(self,value):\n",
        "        self.items.append(value)\n",
        "        self.size+=1\n",
        "    def pop(self):\n",
        "        if self.isempty():\n",
        "            return 0\n",
        "        else:\n",
        "            self.size-=1\n",
        "            return self.items.pop()\n",
        "    def isempty(self):\n",
        "        if(self.size==-1):\n",
        "            return True\n",
        "        else:\n",
        "            return False\n",
        "    def seek(self):\n",
        "        if self.isempty():\n",
        "            return false\n",
        "        else:\n",
        "            return self.items[self.size]\n",
        "    def isOperand(self,i):\n",
        "        if i in 'ABCDEFGHIJKLMNOPQRSTUVWXYZ':\n",
        "            return True\n",
        "        else:\n",
        "            return False\n",
        "    def infixtopostfix (self,expr):\n",
        "        postfix=\"\"\n",
        "        print('postfix expression after every iteration is:')\n",
        "        for i in expr:\n",
        "            if(len(expr)%2==0):\n",
        "                print(\"Incorrect infix expr\")\n",
        "                return False\n",
        "            elif(self.isOperand(i)):\n",
        "                postfix +=i\n",
        "            elif(i in '+-*/^'):\n",
        "                while(len(self.items)and self.precedence[i]<=self.precedence[self.seek()]):\n",
        "                    postfix+=self.pop()\n",
        "                self.push(i)\n",
        "            elif i is '(':\n",
        "                self.push(i)\n",
        "            elif i is ')':\n",
        "                o=self.pop()\n",
        "                while o!='(':\n",
        "                    postfix +=o\n",
        "                    o=self.pop()\n",
        "            print(postfix)\n",
        "                #end of for\n",
        "        while len(self.items):\n",
        "            if(self.seek()=='('):\n",
        "                self.pop()\n",
        "            else:\n",
        "                postfix+=self.pop()\n",
        "        return postfix\n",
        "s=infix_to_postfix()\n",
        "expr=input('enter the expression ')\n",
        "result=s.infixtopostfix(expr)\n",
        "if (result!=False):\n",
        "    print(\"the postfix expr of :\",expr,\"is\",result)"
      ],
      "execution_count": null,
      "outputs": []
    },
    {
      "cell_type": "markdown",
      "metadata": {
        "id": "4iHDYlF7cPSB"
      },
      "source": [
        " 10.create a queue and perform various operations on it"
      ]
    },
    {
      "cell_type": "code",
      "metadata": {
        "id": "XhY9nkxgcWWH"
      },
      "source": [
        " \n",
        "class Node:\n",
        "    def _init_(self, element, next):\n",
        "        self.element = element\n",
        "        self.next = next\n",
        " \n",
        "class QueuesLinked:\n",
        "    def _init_(self):\n",
        "        self.front = None\n",
        "        self.rear = None\n",
        "        self.size = 0\n",
        " \n",
        "    def _len_(self):\n",
        "        return self.size\n",
        " \n",
        "    def isempty(self):\n",
        "        return self.size == 0\n",
        " \n",
        "    def enqueue(self, e):\n",
        "        newest = Node(e, None)\n",
        "        if self.isempty():\n",
        "            self.front = newest\n",
        "        else:\n",
        "            self.rear.next = newest\n",
        "        self.rear = newest\n",
        "        self.size += 1\n",
        " \n",
        "    def dequeue(self):\n",
        "        if self.isempty():\n",
        "            print('Queue is empty')\n",
        "            return\n",
        "        e = self.front.element\n",
        "        self.front = self.front.next\n",
        "        self.size -= 1\n",
        "        if self.isempty():\n",
        "            self.rear = None\n",
        "        return e\n",
        " \n",
        "    def first(self):\n",
        "        if self.isempty():\n",
        "            print('Queue is empty')\n",
        "            return\n",
        "        return self.front.element\n",
        " \n",
        "    def display(self):\n",
        "        p = self.front\n",
        "        while p:\n",
        "            print(p.element,end=' <-- ')\n",
        "            p = p.next\n",
        "        print()\n",
        " \n",
        " \n",
        "Q = QueuesLinked()\n",
        "Q.enqueue(5)\n",
        "Q.enqueue(3)\n",
        "print('Queue:')\n",
        "Q.display()\n",
        "print('Queue Length:', len(Q))\n",
        "ele = Q.dequeue()\n",
        "print('Queue:')\n",
        "Q.display()\n",
        "print('Queue Length:', len(Q))\n",
        "print('Removed Element:',ele)\n",
        "print('Is Queue Empty:',Q.isempty())\n",
        "Q.enqueue(7)\n",
        "print('Queue:')\n",
        "Q.display()\n",
        "print('Queue Length:', len(Q))\n",
        "Q.enqueue(12)\n",
        "print('Queue:')\n",
        "Q.display()\n",
        "print('Queue Length:', len(Q))\n",
        "ele = Q.dequeue()\n",
        "print('Queue:')\n",
        "Q.display()\n",
        "print('Queue Length:', len(Q))\n",
        "print('Removed Element:',ele)\n",
        "print('First Element:',Q.first())"
      ],
      "execution_count": null,
      "outputs": []
    },
    {
      "cell_type": "markdown",
      "metadata": {
        "id": "Y7vIaP13doXE"
      },
      "source": [
        " 11.Write a program to create a binary tree and perform various traversals"
      ]
    },
    {
      "cell_type": "code",
      "metadata": {
        "id": "bBL9aMJPB0Xp"
      },
      "source": [
        " \n",
        "def __init__(self,data):\n",
        "        self.left = None\n",
        "        self.right = None\n",
        "        self.data = data \n",
        " \n",
        "#To insert a new node\n",
        "    def insert(self,child,direction):\n",
        "        if direction == \"right\":\n",
        "            self.right = child \n",
        "        elif direction == \"left\":\n",
        "            self.left = child \n",
        " \n",
        "#To print the tree (LRN method - Left Node,Right Node,Root Node)\n",
        "    def PrintTree(self):\n",
        "        if self.left:\n",
        "            self.left.PrintTree()\n",
        "        if self.right:\n",
        "            self.right.PrintTree()\n",
        "        print(self.data)\n",
        " \n",
        "#Use the insert method to add nodes \n",
        "A = Node(\"A\")\n",
        "B = Node(\"B\")\n",
        "C = Node(\"C\")\n",
        "D = Node(\"D\")\n",
        "E = Node(\"E\")\n",
        "F = Node(\"F\")\n",
        "A.insert(B,\"left\")\n",
        "B.insert(C,\"right\")\n",
        "C.insert(D,\"left\")\n",
        "A.insert(E,\"right\")\n",
        "E.insert(F,\"right\")\n",
        "A.PrintTree()"
      ],
      "execution_count": null,
      "outputs": []
    },
    {
      "cell_type": "markdown",
      "metadata": {
        "id": "k_FINVCcB1Rh"
      },
      "source": [
        " 12.create a binary search tree and perform some operations"
      ]
    },
    {
      "cell_type": "code",
      "metadata": {
        "id": "fljlEG5iCGIp"
      },
      "source": [
        " \n",
        "class BST():\n",
        "  def __init__(self,data):\n",
        "    self.data=data\n",
        "    self.left=None\n",
        "    self.right=None\n",
        "\n",
        "  \n",
        "  def addchild(self,data):\n",
        "    if data==self.data:\n",
        "      return\n",
        "    \n",
        "    if data<self.data:\n",
        "      if self.left:\n",
        "        self.left.addchild(data)\n",
        "      else:\n",
        "        self.left=BST(data)\n",
        "\n",
        "    else:\n",
        "      if self.right:\n",
        "        self.right.addchild(data)\n",
        "      else:\n",
        "        self.right=BST(data)\n",
        "\n",
        " \n",
        "  def inorder(self):\n",
        "    elements=[]\n",
        "    if self.left:\n",
        "      elements+=self.left.inorder()\n",
        "    if self.data:\n",
        "      elements.append(self.data)\n",
        "    if self.right:\n",
        "      elements+=self.right.inorder()\n",
        "    return elements\n",
        "\n",
        " \n",
        "  def preorder(self):\n",
        "    elements=[]\n",
        "    if self.data:\n",
        "      elements.append(self.data)\n",
        "    if self.left:\n",
        "      elements+=self.left.inorder()\n",
        "    if self.right:\n",
        "      elements+=self.right.inorder()\n",
        "    return elements\n",
        "\n",
        "  \n",
        "  def postorder(self):\n",
        "    elements=[]\n",
        "    if self.left:\n",
        "      elements+=self.left.inorder()\n",
        "    if self.right:\n",
        "      elements+=self.right.inorder()\n",
        "    if self.data:\n",
        "      elements.append(self.data)\n",
        "    return elements\n",
        "\n",
        "    \n",
        "  def search(self,val):\n",
        "    if val==self.data:\n",
        "      return True\n",
        "    if val<self.data:\n",
        "      if self.left:\n",
        "        val=self.left.search(val)\n",
        "      else:\n",
        "        return False\n",
        "    else: \n",
        "      if self.right: \n",
        "        val=self.right.search(val)\n",
        "      else:\n",
        "        return False\n",
        "    return val\n",
        "\n",
        "def build_tree(elements):\n",
        "  root=BST(elements[0])\n",
        "  for i in range(1,len(elements)):\n",
        "    root.addchild(elements[i])\n",
        "  return root\n",
        "\n",
        "if _name==\"main_\":\n",
        "  numbers=[17, 4, 1, 20, 9, 23, 18, 34]\n",
        "  numbers_tree=build_tree(numbers)\n",
        "  print(numbers_tree.inorder())\n",
        "  print(numbers_tree.preorder())\n",
        "  print(numbers_tree.postorder())\n",
        "  \n",
        "  print(numbers_tree.search(4))\n",
        "  print(numbers_tree.search(10)"
      ],
      "execution_count": null,
      "outputs": []
    }
  ]
}